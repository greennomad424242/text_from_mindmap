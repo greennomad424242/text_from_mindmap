{
 "cells": [
  {
   "cell_type": "code",
   "execution_count": 81,
   "metadata": {},
   "outputs": [],
   "source": [
    "import xml.etree.ElementTree as ET\n",
    "tree = ET.parse('map.xml')\n",
    "root_cal = tree.getroot()\n",
    "root = root_cal.findall(\".\")"
   ]
  },
  {
   "cell_type": "code",
   "execution_count": 82,
   "metadata": {},
   "outputs": [
    {
     "name": "stdout",
     "output_type": "stream",
     "text": [
      "/Users/matthowes/Drive/Data Dev and Viz/Projects/book_from_mindmap\n"
     ]
    }
   ],
   "source": [
    "import os\n",
    "cwd = os.getcwd()\n",
    "print (cwd)"
   ]
  },
  {
   "cell_type": "code",
   "execution_count": null,
   "metadata": {},
   "outputs": [],
   "source": [
    "\n",
    "\n",
    " "
   ]
  },
  {
   "cell_type": "code",
   "execution_count": 83,
   "metadata": {},
   "outputs": [
    {
     "name": "stdout",
     "output_type": "stream",
     "text": [
      "gHReWdxfJyFHyzUZcx94-1\n"
     ]
    }
   ],
   "source": [
    "number_of_elements = len(root[0])\n",
    "text_array = [] \n",
    "relationship_array = []\n",
    "for i in range(0, number_of_elements):\n",
    "  # print ('i:' + str(i))\n",
    "   individual_cell = root[0][i]\n",
    "  # print (individual_cell)\n",
    " #  print (root[0][i].attrib['id'])\n",
    "   individual_cell_attributes = individual_cell.attrib \n",
    "   entry_type = 'unknown'\n",
    "   if 'id' in individual_cell_attributes:\n",
    "      id =root[0][i].attrib['id']\n",
    "     # print ('id:' +  id )\n",
    "   if 'label' in individual_cell_attributes:\n",
    "      label =root[0][i].attrib['label']\n",
    "     # print ('label:' +  label )    \n",
    "   if 'treeRoot' in individual_cell_attributes:\n",
    "      treeRoot =root[0][i].attrib['treeRoot']\n",
    "     # print ('treeroot:' +  treeRoot )        \n",
    "      parent_node = id\n",
    "   if 'value' in individual_cell_attributes:\n",
    "      val =root[0][i].attrib['value']\n",
    "      if len(val) > 0:  \n",
    "          entry_type = 'text'\n",
    "          label = val  \n",
    "      else:\n",
    "          entry_type = 'geo' \n",
    "   else: \n",
    "      entry_type =\"unknown\"\n",
    "   if 'source' in individual_cell_attributes:\n",
    "      source =root[0][i].attrib['source']\n",
    "     # print ('source:' + val) \n",
    "   if 'target' in individual_cell_attributes:\n",
    "      target =root[0][i].attrib['target']\n",
    "      #print ('target:' + val)\n",
    "   geometry_within_cell= root[0][i].findall('mxGeometry')\n",
    "   for child in geometry_within_cell:\n",
    "       if 'y' in  child.attrib:\n",
    "           y  = child.attrib['y']\n",
    "      #     print ('y:' +  y )\n",
    "           \n",
    "   if entry_type == 'geo':\n",
    "      relationship_array.append([id,source, target])\n",
    "   elif entry_type == 'text':\n",
    "      text_array.append([id, label,y])\n",
    "   source= \"\"  \n",
    "   target= \"\" \n",
    "   id = \"\" \n",
    "\n",
    "print (parent_node)\n"
   ]
  },
  {
   "cell_type": "code",
   "execution_count": 84,
   "metadata": {},
   "outputs": [
    {
     "name": "stdout",
     "output_type": "stream",
     "text": [
      "['O3UHbDxIHgIvfHBMtrS7-7', 'Looking at individual rows of data', '255']\n",
      "['O3UHbDxIHgIvfHBMtrS7-8', 'Looking at max, mins and other statistics&nbsp;', '295']\n",
      "['O3UHbDxIHgIvfHBMtrS7-11', 'Abscombe quartet', '320']\n",
      "['O3UHbDxIHgIvfHBMtrS7-13', 'Graphing in Tableau or other viz tools&nbsp;', '366']\n",
      "['O3UHbDxIHgIvfHBMtrS7-16', 'Complex, but less complex than looking at the raw data.&nbsp; Incremental tool, not savior', '658.5']\n",
      "['O3UHbDxIHgIvfHBMtrS7-18', '3D viz enables that exploration&nbsp;', '511']\n",
      "['O3UHbDxIHgIvfHBMtrS7-23', 'How to use&nbsp;', '858.5']\n",
      "['O3UHbDxIHgIvfHBMtrS7-27', 'Using some Javascript libraries, I built a quick tool to parse and view \"many-to-many\" datasets and show them in three dimensions. (Many-to-many datasets might include:&nbsp; transactions between countries, social networks, or website traffic.)', '423.5']\n",
      "['O3UHbDxIHgIvfHBMtrS7-29', '<div style=\"text-align: left\"><span>The \"creator\" version of this tool is used to parse and filter raw datasets.&nbsp; It isn\\'t ready for public release, but I wanted to show some data in the \"viewer\" version.</span></div>', '533']\n",
      "['O3UHbDxIHgIvfHBMtrS7-31', 'Tableau, PowerBI and other tools are great for some data visualization, but I wanted to use some newer tools to better visualize multi-dimensional data.', '349']\n",
      "['O3UHbDxIHgIvfHBMtrS7-34', 'Other tools', '1155.5']\n",
      "['O3UHbDxIHgIvfHBMtrS7-35', '<div style=\"text-align: left\"><span>When hosted in a standalone website, this visualization can be embedded in Tableau or other tool.&nbsp; This would help tell the story more comprehensively.&nbsp;</span></div>', '1070']\n",
      "['O3UHbDxIHgIvfHBMtrS7-40', 'Be sure to click around the viz and zoom around.', '835']\n",
      "['O3UHbDxIHgIvfHBMtrS7-42', 'This was made with &lt;a href=\"https://github.com/vasturiano/3d-force-graph\"&gt;3d-force-graph&lt;/a&gt; and &lt;a href=\"https://gmousse.gitbooks.io/dataframe-js/content/doc/api/dataframe.html\"&gt;Dataframe.js&lt;/a&gt;', '1013']\n",
      "['O3UHbDxIHgIvfHBMtrS7-45', 'Made with', '975.5']\n",
      "['O3UHbDxIHgIvfHBMtrS7-46', 'You can click the \"rotation\" button and see the structure rotate.&nbsp; if you\\'ve moused around already, you might want to hit reload before using the rotation functionality.', '865']\n",
      "['O3UHbDxIHgIvfHBMtrS7-24', \"You can see that this view represents a lot of complex data in its entirety.&nbsp; &nbsp;This isn't meant to be something that I drop into an executive's Powerpoint and walk away.&nbsp; &nbsp; This is more of a working tool that I can use to use to explore the data. Any insights I discover would be distilled into more accessible line charts or other&nbsp; visualizations.<br>\", '642.5']\n",
      "['O3UHbDxIHgIvfHBMtrS7-25', 'Since this is built with Javascript, there are dozens of other frameworks that can probably show a similar view.&nbsp;', '1155.5']\n",
      "['O3UHbDxIHgIvfHBMtrS7-26', 'There is also great tooling available in Python.&nbsp;', '1208.5']\n",
      "['O3UHbDxIHgIvfHBMtrS7-37', 'I\\'ll continue to evolve this tool and other projects.&nbsp; Feel free to hit me up on &lt;a href=\"https://www.linkedin.com/in/matthowes/\"&gt;LinkedIn&lt;/a&gt;.', '1300']\n",
      "['O3UHbDxIHgIvfHBMtrS7-38', '<div style=\"text-align: left\"><span>This is an alpha version that is cheaply hosted on GitHub pages.&nbsp;&nbsp;</span></div>', '945']\n"
     ]
    }
   ],
   "source": [
    "for row in text_array: \n",
    "     print (row)\n"
   ]
  },
  {
   "cell_type": "code",
   "execution_count": 85,
   "metadata": {},
   "outputs": [
    {
     "name": "stdout",
     "output_type": "stream",
     "text": [
      "['O3UHbDxIHgIvfHBMtrS7-9', 'O3UHbDxIHgIvfHBMtrS7-4', 'O3UHbDxIHgIvfHBMtrS7-7']\n",
      "['O3UHbDxIHgIvfHBMtrS7-10', 'O3UHbDxIHgIvfHBMtrS7-4', 'O3UHbDxIHgIvfHBMtrS7-8']\n",
      "['O3UHbDxIHgIvfHBMtrS7-12', 'O3UHbDxIHgIvfHBMtrS7-8', 'O3UHbDxIHgIvfHBMtrS7-11']\n",
      "['O3UHbDxIHgIvfHBMtrS7-14', 'O3UHbDxIHgIvfHBMtrS7-4', 'O3UHbDxIHgIvfHBMtrS7-13']\n",
      "['O3UHbDxIHgIvfHBMtrS7-17', 'gHReWdxfJyFHyzUZcx94-1', 'O3UHbDxIHgIvfHBMtrS7-16']\n",
      "['O3UHbDxIHgIvfHBMtrS7-21', 'gHReWdxfJyFHyzUZcx94-1', 'O3UHbDxIHgIvfHBMtrS7-18']\n",
      "['O3UHbDxIHgIvfHBMtrS7-22', 'gHReWdxfJyFHyzUZcx94-1', 'O3UHbDxIHgIvfHBMtrS7-23']\n",
      "['O3UHbDxIHgIvfHBMtrS7-28', 'O3UHbDxIHgIvfHBMtrS7-18', 'O3UHbDxIHgIvfHBMtrS7-27']\n",
      "['O3UHbDxIHgIvfHBMtrS7-30', 'O3UHbDxIHgIvfHBMtrS7-18', 'O3UHbDxIHgIvfHBMtrS7-29']\n",
      "['O3UHbDxIHgIvfHBMtrS7-32', 'gHReWdxfJyFHyzUZcx94-1', 'O3UHbDxIHgIvfHBMtrS7-31']\n",
      "['O3UHbDxIHgIvfHBMtrS7-33', 'gHReWdxfJyFHyzUZcx94-1', 'O3UHbDxIHgIvfHBMtrS7-34']\n",
      "['O3UHbDxIHgIvfHBMtrS7-36', 'O3UHbDxIHgIvfHBMtrS7-45', 'O3UHbDxIHgIvfHBMtrS7-35']\n",
      "['O3UHbDxIHgIvfHBMtrS7-39', 'O3UHbDxIHgIvfHBMtrS7-16', 'O3UHbDxIHgIvfHBMtrS7-24']\n",
      "['O3UHbDxIHgIvfHBMtrS7-41', 'O3UHbDxIHgIvfHBMtrS7-23', 'O3UHbDxIHgIvfHBMtrS7-40']\n",
      "['O3UHbDxIHgIvfHBMtrS7-43', 'O3UHbDxIHgIvfHBMtrS7-45', 'O3UHbDxIHgIvfHBMtrS7-42']\n",
      "['O3UHbDxIHgIvfHBMtrS7-44', 'gHReWdxfJyFHyzUZcx94-1', 'O3UHbDxIHgIvfHBMtrS7-45']\n",
      "['O3UHbDxIHgIvfHBMtrS7-47', 'O3UHbDxIHgIvfHBMtrS7-23', 'O3UHbDxIHgIvfHBMtrS7-46']\n",
      "['O3UHbDxIHgIvfHBMtrS7-48', 'O3UHbDxIHgIvfHBMtrS7-45', 'O3UHbDxIHgIvfHBMtrS7-38']\n",
      "['O3UHbDxIHgIvfHBMtrS7-49', 'O3UHbDxIHgIvfHBMtrS7-34', 'O3UHbDxIHgIvfHBMtrS7-25']\n",
      "['O3UHbDxIHgIvfHBMtrS7-50', 'O3UHbDxIHgIvfHBMtrS7-34', 'O3UHbDxIHgIvfHBMtrS7-26']\n",
      "['O3UHbDxIHgIvfHBMtrS7-51', 'gHReWdxfJyFHyzUZcx94-1', 'O3UHbDxIHgIvfHBMtrS7-37']\n"
     ]
    }
   ],
   "source": [
    "for row in relationship_array: \n",
    "     print (row)"
   ]
  },
  {
   "cell_type": "code",
   "execution_count": 86,
   "metadata": {},
   "outputs": [
    {
     "name": "stdout",
     "output_type": "stream",
     "text": [
      "['O3UHbDxIHgIvfHBMtrS7-37', 'gHReWdxfJyFHyzUZcx94-1', 'false', '1300', 'I\\'ll continue to evolve this tool and other projects.&nbsp; Feel free to hit me up on &lt;a href=\"https://www.linkedin.com/in/matthowes/\"&gt;LinkedIn&lt;/a&gt;.']\n",
      "['O3UHbDxIHgIvfHBMtrS7-26', 'O3UHbDxIHgIvfHBMtrS7-34', 'false', '1208.5', 'There is also great tooling available in Python.&nbsp;']\n",
      "['O3UHbDxIHgIvfHBMtrS7-34', 'gHReWdxfJyFHyzUZcx94-1', 'true', '1155.5', 'Other tools']\n",
      "['O3UHbDxIHgIvfHBMtrS7-25', 'O3UHbDxIHgIvfHBMtrS7-34', 'false', '1155.5', 'Since this is built with Javascript, there are dozens of other frameworks that can probably show a similar view.&nbsp;']\n",
      "['O3UHbDxIHgIvfHBMtrS7-35', 'O3UHbDxIHgIvfHBMtrS7-45', 'false', '1070', '<div style=\"text-align: left\"><span>When hosted in a standalone website, this visualization can be embedded in Tableau or other tool.&nbsp; This would help tell the story more comprehensively.&nbsp;</span></div>']\n",
      "['O3UHbDxIHgIvfHBMtrS7-42', 'O3UHbDxIHgIvfHBMtrS7-45', 'false', '1013', 'This was made with &lt;a href=\"https://github.com/vasturiano/3d-force-graph\"&gt;3d-force-graph&lt;/a&gt; and &lt;a href=\"https://gmousse.gitbooks.io/dataframe-js/content/doc/api/dataframe.html\"&gt;Dataframe.js&lt;/a&gt;']\n",
      "['O3UHbDxIHgIvfHBMtrS7-45', 'gHReWdxfJyFHyzUZcx94-1', 'true', '975.5', 'Made with']\n",
      "['O3UHbDxIHgIvfHBMtrS7-38', 'O3UHbDxIHgIvfHBMtrS7-45', 'false', '945', '<div style=\"text-align: left\"><span>This is an alpha version that is cheaply hosted on GitHub pages.&nbsp;&nbsp;</span></div>']\n",
      "['O3UHbDxIHgIvfHBMtrS7-46', 'O3UHbDxIHgIvfHBMtrS7-23', 'false', '865', 'You can click the \"rotation\" button and see the structure rotate.&nbsp; if you\\'ve moused around already, you might want to hit reload before using the rotation functionality.']\n",
      "['O3UHbDxIHgIvfHBMtrS7-23', 'gHReWdxfJyFHyzUZcx94-1', 'true', '858.5', 'How to use&nbsp;']\n",
      "['O3UHbDxIHgIvfHBMtrS7-40', 'O3UHbDxIHgIvfHBMtrS7-23', 'false', '835', 'Be sure to click around the viz and zoom around.']\n",
      "['O3UHbDxIHgIvfHBMtrS7-16', 'gHReWdxfJyFHyzUZcx94-1', 'true', '658.5', 'Complex, but less complex than looking at the raw data.&nbsp; Incremental tool, not savior']\n",
      "['O3UHbDxIHgIvfHBMtrS7-24', 'O3UHbDxIHgIvfHBMtrS7-16', 'false', '642.5', \"You can see that this view represents a lot of complex data in its entirety.&nbsp; &nbsp;This isn't meant to be something that I drop into an executive's Powerpoint and walk away.&nbsp; &nbsp; This is more of a working tool that I can use to use to explore the data. Any insights I discover would be distilled into more accessible line charts or other&nbsp; visualizations.<br>\"]\n",
      "['O3UHbDxIHgIvfHBMtrS7-29', 'O3UHbDxIHgIvfHBMtrS7-18', 'false', '533', '<div style=\"text-align: left\"><span>The \"creator\" version of this tool is used to parse and filter raw datasets.&nbsp; It isn\\'t ready for public release, but I wanted to show some data in the \"viewer\" version.</span></div>']\n",
      "['O3UHbDxIHgIvfHBMtrS7-18', 'gHReWdxfJyFHyzUZcx94-1', 'true', '511', '3D viz enables that exploration&nbsp;']\n",
      "['O3UHbDxIHgIvfHBMtrS7-27', 'O3UHbDxIHgIvfHBMtrS7-18', 'false', '423.5', 'Using some Javascript libraries, I built a quick tool to parse and view \"many-to-many\" datasets and show them in three dimensions. (Many-to-many datasets might include:&nbsp; transactions between countries, social networks, or website traffic.)']\n",
      "['O3UHbDxIHgIvfHBMtrS7-13', 'O3UHbDxIHgIvfHBMtrS7-4', 'false', '366', 'Graphing in Tableau or other viz tools&nbsp;']\n",
      "['O3UHbDxIHgIvfHBMtrS7-31', 'gHReWdxfJyFHyzUZcx94-1', 'false', '349', 'Tableau, PowerBI and other tools are great for some data visualization, but I wanted to use some newer tools to better visualize multi-dimensional data.']\n",
      "['O3UHbDxIHgIvfHBMtrS7-11', 'O3UHbDxIHgIvfHBMtrS7-8', 'false', '320', 'Abscombe quartet']\n",
      "['O3UHbDxIHgIvfHBMtrS7-8', 'O3UHbDxIHgIvfHBMtrS7-4', 'true', '295', 'Looking at max, mins and other statistics&nbsp;']\n",
      "['O3UHbDxIHgIvfHBMtrS7-7', 'O3UHbDxIHgIvfHBMtrS7-4', 'false', '255', 'Looking at individual rows of data']\n"
     ]
    }
   ],
   "source": [
    "merged_array = []\n",
    "for row in  text_array:  \n",
    "    name = row[0]\n",
    "    text_val = row[1]\n",
    "    y = row[2]\n",
    "    parent_search= next((x for x in relationship_array if x[2] == name ), 'none')\n",
    "    parent_name = parent_search[1]\n",
    "\n",
    "    child_search = next((x for x in relationship_array if x[1] == name ), 'none')\n",
    " \n",
    "    if child_search ==\"none\" : \n",
    "       has_children = \"false\"\n",
    "    else: \n",
    "       has_children = \"true\" \n",
    "    merged_array.append([ name,parent_name, has_children ,y, text_val ])\n",
    "\n",
    "def sortSecond(val): \n",
    "   # print  (val[3])\n",
    "    return int(float(val[3]))  \n",
    "    \n",
    "merged_array.sort(key = sortSecond, reverse=True )     \n",
    "for row in merged_array: \n",
    "     print (row)\n",
    "        \n",
    "        \n",
    "        "
   ]
  },
  {
   "cell_type": "code",
   "execution_count": 95,
   "metadata": {},
   "outputs": [
    {
     "name": "stdout",
     "output_type": "stream",
     "text": [
      " Tableau, PowerBI and other tools are great for some data visualization, but I wanted to use some newer tools to better visualize multi-dimensional data.\n",
      "\n",
      " Using some Javascript libraries, I built a quick tool to parse and view \"many-to-many\" datasets and show them in three dimensions. (Many-to-many datasets might include: transactions between countries, social networks, or website traffic.)\n",
      "\n",
      " The \"creator\" version of this tool is used to parse and filter raw datasets. It isn't ready for public release, but I wanted to show some data in the \"viewer\" version.\n",
      "\n",
      " You can see that this view represents a lot of complex data in its entirety. This isn't meant to be something that I drop into an executive's Powerpoint and walk away.  This is more of a working tool that I can use to use to explore the data. Any insights I discover would be distilled into more accessible line charts or other visualizations.<br>\n",
      "\n",
      " Be sure to click around the viz and zoom around.\n",
      "\n",
      " You can click the \"rotation\" button and see the structure rotate. if you've moused around already, you might want to hit reload before using the rotation functionality.\n",
      "\n",
      " This is an alpha version that is cheaply hosted on GitHub pages.\n",
      "\n",
      " This was made with <a href=\"https://github.com/vasturiano/3d-force-graph\">3d-force-graph</a> and <a href=\"https://gmousse.gitbooks.io/dataframe-js/content/doc/api/dataframe.html\">Dataframe.js</a>\n",
      "\n",
      " When hosted in a standalone website, this visualization can be embedded in Tableau or other tool. This would help tell the story more comprehensively.\n",
      "\n",
      " Since this is built with Javascript, there are dozens of other frameworks that can probably show a similar view.\n",
      "\n",
      " There is also great tooling available in Python.\n",
      "\n",
      " I'll continue to evolve this tool and other projects. Feel free to hit me up on <a href=\"https://www.linkedin.com/in/matthowes/\">LinkedIn</a>.\n",
      "\n",
      "\n"
     ]
    }
   ],
   "source": [
    "master_string =[]\n",
    "import re\n",
    "import functools\n",
    "repls =  (('&gt;', '>'),\n",
    "          ('&lt;', '<'),\n",
    "          ('&nbsp;', ''),\n",
    "          ('<div style=\"text-align: left\">',''),\n",
    "          ('<span>',  ''),\n",
    "          ('</span>',  ''),\n",
    "          ('</div>',  ''),)\n",
    "\n",
    "\n",
    "\n",
    "def replace_all(text, dic):\n",
    "    for i, j in dic.iteritems():\n",
    "        text = text.replace(i, j)\n",
    "    return text\n",
    "\n",
    "def recursive_print (target_name):\n",
    "   #print (\"target name: \" + target_name)\n",
    "   # look up the entry value \n",
    "   find_entry = next((x for x in merged_array if x[0] == target_name ), 'none')\n",
    "   if find_entry == 'none': # than this is the parent \n",
    "       has_children ='true'   \n",
    "   else:     \n",
    "       label_value = find_entry[4]\n",
    "         \n",
    "       has_children = find_entry[2]\n",
    "       \n",
    "  \n",
    "   if (has_children == 'true'):\n",
    "    \n",
    "        # find all children and sort by y location \n",
    "        matches = [x for x in merged_array if x[1] == target_name ]\n",
    "               \n",
    "        matches.sort(key = sortSecond, reverse=False )  \n",
    "          # print (\"Matches:\")  \n",
    "      #  print (matches) \n",
    "  \n",
    "        \n",
    "        #iterate over them in order \n",
    "        for child_name in matches: \n",
    "           # print (child_name[0])\n",
    "            recursive_print(child_name[0])\n",
    "   else:\n",
    "    \n",
    "       \n",
    "   \n",
    "       for r in repls:\n",
    "          label_value = label_value.replace(*r)\n",
    "       master_string.append(\" \" + label_value)\n",
    "                             \n",
    "                             \n",
    "        \n",
    "        \n",
    "        # concat to a string \n",
    "      # print out the text   \n",
    "        \n",
    "        \n",
    "\n",
    "recursive_print(parent_node)\n",
    "#FppH65uxrcL7wk5XnBWe-1\n",
    "\n",
    "\n",
    "\n",
    "\n",
    "temp =\"\"\n",
    "\n",
    "for x in master_string: \n",
    "    temp += x +\"\\n\\n\"\n",
    "\n",
    "    \n",
    "print (temp)  \n",
    "\n",
    "with open(\"filename.txt\", \"w\") as f:\n",
    "    f.write(temp)\n",
    "\n",
    "\n"
   ]
  },
  {
   "cell_type": "code",
   "execution_count": 94,
   "metadata": {},
   "outputs": [],
   "source": []
  },
  {
   "cell_type": "code",
   "execution_count": 89,
   "metadata": {},
   "outputs": [
    {
     "name": "stdout",
     "output_type": "stream",
     "text": [
      " Tableau, PowerBI and other tools are great for some data visualization, but I wanted to use some newer tools to better visualize multi-dimensional data.\n",
      " Using some Javascript libraries, I built a quick tool to parse and view \"many-to-many\" datasets and show them in three dimensions. (Many-to-many datasets might include: transactions between countries, social networks, or website traffic.)\n",
      " <div style=\"text-align: left\"><span>The \"creator\" version of this tool is used to parse and filter raw datasets. It isn't ready for public release, but I wanted to show some data in the \"viewer\" version.</span></div>\n",
      " You can see that this view represents a lot of complex data in its entirety. This isn't meant to be something that I drop into an executive's Powerpoint and walk away.  This is more of a working tool that I can use to use to explore the data. Any insights I discover would be distilled into more accessible line charts or other visualizations.<br>\n",
      " Be sure to click around the viz and zoom around.\n",
      " You can click the \"rotation\" button and see the structure rotate. if you've moused around already, you might want to hit reload before using the rotation functionality.\n",
      " <div style=\"text-align: left\"><span>This is an alpha version that is cheaply hosted on GitHub pages.</span></div>\n",
      " This was made with <a href=\"https://github.com/vasturiano/3d-force-graph\">3d-force-graph</a> and <a href=\"https://gmousse.gitbooks.io/dataframe-js/content/doc/api/dataframe.html\">Dataframe.js</a>\n",
      " <div style=\"text-align: left\"><span>When hosted in a standalone website, this visualization can be embedded in Tableau or other tool. This would help tell the story more comprehensively.</span></div>\n",
      " Since this is built with Javascript, there are dozens of other frameworks that can probably show a similar view.\n",
      " There is also great tooling available in Python.\n",
      " I'll continue to evolve this tool and other projects. Feel free to hit me up on <a href=\"https://www.linkedin.com/in/matthowes/\">LinkedIn</a>.\n",
      "\n"
     ]
    }
   ],
   "source": [
    "  "
   ]
  },
  {
   "cell_type": "code",
   "execution_count": null,
   "metadata": {},
   "outputs": [],
   "source": []
  },
  {
   "cell_type": "code",
   "execution_count": null,
   "metadata": {},
   "outputs": [],
   "source": []
  },
  {
   "cell_type": "code",
   "execution_count": null,
   "metadata": {},
   "outputs": [],
   "source": []
  }
 ],
 "metadata": {
  "kernelspec": {
   "display_name": "Python 2",
   "language": "python",
   "name": "python3"
  },
  "language_info": {
   "codemirror_mode": {
    "name": "ipython",
    "version": 3
   },
   "file_extension": ".py",
   "mimetype": "text/x-python",
   "name": "python",
   "nbconvert_exporter": "python",
   "pygments_lexer": "ipython3",
   "version": "3.7.0"
  }
 },
 "nbformat": 4,
 "nbformat_minor": 2
}
