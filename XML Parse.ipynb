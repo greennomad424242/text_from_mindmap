{
 "cells": [
  {
   "cell_type": "code",
   "execution_count": 7,
   "metadata": {},
   "outputs": [],
   "source": [
    "# this code parses a draw.io-generated XML tree to extract the children elements and create a full text doc.\n",
    "#  This is useful if you're a fan of structured thinking (like a mindmap) but then want to have the text easily output\n",
    "\n",
    "# notes: \n",
    "#   * clearly there is a lot of refactoring possible, this is merely a test drive to see if it's a useful tool\n",
    "#   * the top of the doc has to be structured like <?xml version=\"1.0\"?> <root> (i.e. have to swap out the 'graph'\n",
    "#   * it only prints out the elements without children (i.e. the lowest granularity), except if the element is bolded (it'll then include that)\n",
    "#  \n",
    "#   To Do:  write this to Google Sheets and back (i.e. allow easy iteration of outline and text)    \n"
   ]
  },
  {
   "cell_type": "code",
   "execution_count": null,
   "metadata": {},
   "outputs": [],
   "source": [
    "import xml.etree.ElementTree as ET\n",
    "import re\n",
    "import functools\n",
    "import os\n",
    "\n",
    "tree = ET.parse('map.xml')\n",
    "root_cal = tree.getroot()\n",
    "root = root_cal.findall(\".\")"
   ]
  },
  {
   "cell_type": "code",
   "execution_count": 8,
   "metadata": {},
   "outputs": [
    {
     "name": "stdout",
     "output_type": "stream",
     "text": [
      "/Users/matthowes/Drive/Data Dev and Viz/Projects/book_from_mindmap\n"
     ]
    }
   ],
   "source": []
  },
  {
   "cell_type": "code",
   "execution_count": 9,
   "metadata": {},
   "outputs": [
    {
     "name": "stdout",
     "output_type": "stream",
     "text": [
      "whiteSpace=wrap;html=1;rounded=1;arcSize=50;align=center;verticalAlign=middle;container=1;recursiveResize=0;strokeWidth=1;autosize=1;spacing=4;treeFolding=1;fontStyle=1\n",
      "whiteSpace=wrap;html=1;rounded=1;arcSize=50;align=center;verticalAlign=middle;container=1;recursiveResize=0;strokeWidth=1;autosize=1;spacing=4;treeFolding=1;fontStyle=1\n"
     ]
    }
   ],
   "source": [
    "number_of_elements = len(root[0])\n",
    "text_array = [] \n",
    "relationship_array = []\n",
    "for i in range(0, number_of_elements):\n",
    "   title_state =\"\"\n",
    "   label =\"\"\n",
    "   entry_type = 'unknown'\n",
    "   individual_cell = root[0][i]\n",
    "   individual_cell_attributes = individual_cell.attrib \n",
    "   #print (individual_cell_attributes)\n",
    "  \n",
    "   if 'style' in individual_cell_attributes:\n",
    "      text_string =  root[0][i].attrib['style']\n",
    "      \n",
    "      if \"fontStyle=1\" in  text_string:\n",
    "         title_state = \"title\"\n",
    "         print (text_string)  \n",
    "      else: \n",
    "        title_state = \"no_title\"\n",
    "   if 'id' in individual_cell_attributes:\n",
    "      id =root[0][i].attrib['id']\n",
    "     # print ('id:' +  id )\n",
    "   if 'label' in individual_cell_attributes:\n",
    "      label =root[0][i].attrib['label']\n",
    "     # print ('label:' +  label )    \n",
    "    \n",
    "   if 'treeRoot' in individual_cell_attributes:\n",
    "      treeRoot =root[0][i].attrib['treeRoot']\n",
    "     # print ('treeroot:' +  treeRoot )        \n",
    "      parent_node = id\n",
    "   if 'value' in individual_cell_attributes:\n",
    "      val =root[0][i].attrib['value']\n",
    "      if len(val) > 0:  \n",
    "          entry_type = 'text'\n",
    "          label = val  \n",
    "      else:\n",
    "          entry_type = 'geo' \n",
    "   else: \n",
    "      entry_type =\"unknown\"\n",
    "   if 'source' in individual_cell_attributes:\n",
    "      source =root[0][i].attrib['source']\n",
    "     # print ('source:' + val) \n",
    "   if 'target' in individual_cell_attributes:\n",
    "      target =root[0][i].attrib['target']\n",
    "      #print ('target:' + val)\n",
    "   geometry_within_cell= root[0][i].findall('mxGeometry')\n",
    "   for child in geometry_within_cell:\n",
    "       if 'y' in  child.attrib:\n",
    "           y  = child.attrib['y']\n",
    "      #     print ('y:' +  y )\n",
    "           \n",
    "   if entry_type == 'geo':\n",
    "      relationship_array.append([id,source, target])\n",
    "   elif entry_type == 'text':\n",
    "      text_array.append([id, label,title_state,y])\n",
    "   source= \"\"  \n",
    "   target= \"\" \n",
    "   id = \"\" \n",
    "\n",
    "#print (parent_node)\n"
   ]
  },
  {
   "cell_type": "code",
   "execution_count": 10,
   "metadata": {},
   "outputs": [
    {
     "name": "stdout",
     "output_type": "stream",
     "text": [
      "['O3UHbDxIHgIvfHBMtrS7-7', 'Looking at individual rows of data', 'no_title', '255']\n",
      "['O3UHbDxIHgIvfHBMtrS7-8', 'Looking at max, mins and other statistics&nbsp;', 'no_title', '295']\n",
      "['O3UHbDxIHgIvfHBMtrS7-11', 'Abscombe quartet', 'no_title', '320']\n",
      "['O3UHbDxIHgIvfHBMtrS7-13', 'Graphing in Tableau or other viz tools&nbsp;', 'no_title', '366']\n",
      "['O3UHbDxIHgIvfHBMtrS7-16', 'Complex, but less complex than looking at the raw data.&nbsp; Incremental tool, not savior', 'no_title', '658.5']\n",
      "['O3UHbDxIHgIvfHBMtrS7-18', '3D viz enables that exploration&nbsp;', 'no_title', '511']\n",
      "['O3UHbDxIHgIvfHBMtrS7-23', 'How to use&nbsp;', 'no_title', '824']\n",
      "['O3UHbDxIHgIvfHBMtrS7-27', 'Using some Javascript libraries, I built a quick tool to parse and view \"many-to-many\" datasets and show them in three dimensions. (Many-to-many datasets might include:&nbsp; transactions between countries, social networks, or website traffic.)', 'no_title', '423.5']\n",
      "['O3UHbDxIHgIvfHBMtrS7-29', '<div style=\"text-align: left\"><span>The \"creator\" version of this tool is used to parse and filter raw datasets.&nbsp; It isn\\'t ready for public release, but I wanted to show some data in the \"viewer\" version.</span></div>', 'no_title', '533']\n",
      "['O3UHbDxIHgIvfHBMtrS7-31', 'Tableau, PowerBI and other tools are great for some data visualization, but I wanted to use some newer tools to better visualize multi-dimensional data.', 'no_title', '349']\n",
      "['O3UHbDxIHgIvfHBMtrS7-34', 'Other tools', 'title', '1155.5']\n",
      "['O3UHbDxIHgIvfHBMtrS7-35', '<div style=\"text-align: left\"><span>When hosted in a standalone website, this visualization can be embedded in Tableau or other tool.&nbsp; This would help tell the story more comprehensively.&nbsp;</span></div>', 'no_title', '1070']\n",
      "['O3UHbDxIHgIvfHBMtrS7-40', 'Be sure to click around the viz and zoom around.', 'no_title', '800.5']\n",
      "['O3UHbDxIHgIvfHBMtrS7-42', 'This was made with &lt;a href=\"https://github.com/vasturiano/3d-force-graph\"&gt;3d-force-graph&lt;/a&gt; and &lt;a href=\"https://gmousse.gitbooks.io/dataframe-js/content/doc/api/dataframe.html\"&gt;Dataframe.js&lt;/a&gt;', 'no_title', '1013']\n",
      "['O3UHbDxIHgIvfHBMtrS7-45', 'Made with', 'title', '975.5']\n",
      "['O3UHbDxIHgIvfHBMtrS7-46', 'You can click the \"rotation\" button and see the structure rotate.&nbsp; if you\\'ve moused around already, you might want to hit reload before using the rotation functionality.', 'no_title', '830.5']\n",
      "['O3UHbDxIHgIvfHBMtrS7-24', \"You can see that this view represents a lot of complex data in its entirety.&nbsp; &nbsp;This isn't meant to be something that I drop into an executive's Powerpoint and walk away.&nbsp; &nbsp; This is more of a working tool that I can use to use to explore the data. Any insights I discover would be distilled into more accessible line charts or other&nbsp; visualizations.<br>\", 'no_title', '642.5']\n",
      "['O3UHbDxIHgIvfHBMtrS7-25', 'Since this is built with Javascript, there are dozens of other frameworks that can probably show a similar view.&nbsp;', 'no_title', '1155.5']\n",
      "['O3UHbDxIHgIvfHBMtrS7-26', 'There is also great tooling available in Python.&nbsp;', 'no_title', '1208.5']\n",
      "['O3UHbDxIHgIvfHBMtrS7-37', 'I\\'ll continue to evolve this tool and other projects.&nbsp; Feel free to hit me up on &lt;a href=\"https://www.linkedin.com/in/matthowes/\"&gt;LinkedIn&lt;/a&gt;.', 'no_title', '1300']\n",
      "['O3UHbDxIHgIvfHBMtrS7-38', '<div style=\"text-align: left\"><span>This is an alpha version that is cheaply hosted on GitHub pages.&nbsp;&nbsp;</span></div>', 'no_title', '945']\n"
     ]
    }
   ],
   "source": [
    "for row in text_array: \n",
    "     print (row)\n"
   ]
  },
  {
   "cell_type": "code",
   "execution_count": 11,
   "metadata": {},
   "outputs": [],
   "source": [
    "#for row in relationship_array: \n",
    " #    print (row)"
   ]
  },
  {
   "cell_type": "code",
   "execution_count": 13,
   "metadata": {},
   "outputs": [],
   "source": [
    "merged_array = []\n",
    "for row in  text_array:  \n",
    "    id_name = row[0]\n",
    "    text_val = row[1]\n",
    "    title_val = row[2]\n",
    "    y_val = row[3]\n",
    "\n",
    "    parent_search= next((x for x in relationship_array if x[2] == id_name ), 'none')\n",
    "    parent_name = parent_search[1]\n",
    "\n",
    "    child_search = next((x for x in relationship_array if x[1] == id_name ), 'none')\n",
    " \n",
    "    if child_search ==\"none\" : \n",
    "       has_children = \"false\"\n",
    "    else: \n",
    "       has_children = \"true\" \n",
    "    merged_array.append([ id_name,parent_name, has_children ,y_val,title_val, text_val ])"
   ]
  },
  {
   "cell_type": "code",
   "execution_count": null,
   "metadata": {},
   "outputs": [],
   "source": []
  },
  {
   "cell_type": "code",
   "execution_count": 14,
   "metadata": {},
   "outputs": [],
   "source": [
    "def sortSecond(val): \n",
    "   # print  (val[3])\n",
    "    return int(float(val[3]))  \n",
    "    \n",
    "merged_array.sort(key = sortSecond, reverse=True )     \n",
    "#for row in merged_array: \n",
    " #    print (row)"
   ]
  },
  {
   "cell_type": "code",
   "execution_count": 15,
   "metadata": {},
   "outputs": [],
   "source": [
    "\n",
    "repls =  (('&gt;', '>'),\n",
    "          ('&lt;', '<'),\n",
    "          ('&nbsp;', ''),\n",
    "          ('<div style=\"text-align: left\">',''),\n",
    "          ('<span>',  ''),\n",
    "          ('</span>',  ''),\n",
    "          ('</div>',  ''),)\n",
    "\n",
    "def replace_all(text, dic):\n",
    "    for i, j in dic.iteritems():\n",
    "        text = text.replace(i, j)\n",
    "    return text"
   ]
  },
  {
   "cell_type": "code",
   "execution_count": 16,
   "metadata": {},
   "outputs": [
    {
     "name": "stdout",
     "output_type": "stream",
     "text": [
      "['O3UHbDxIHgIvfHBMtrS7-37', 'gHReWdxfJyFHyzUZcx94-1', 'false', '1300', 'no_title', 'I\\'ll continue to evolve this tool and other projects.&nbsp; Feel free to hit me up on &lt;a href=\"https://www.linkedin.com/in/matthowes/\"&gt;LinkedIn&lt;/a&gt;.']\n",
      "['O3UHbDxIHgIvfHBMtrS7-26', 'O3UHbDxIHgIvfHBMtrS7-34', 'false', '1208.5', 'no_title', 'There is also great tooling available in Python.&nbsp;']\n",
      "['O3UHbDxIHgIvfHBMtrS7-34', 'gHReWdxfJyFHyzUZcx94-1', 'true', '1155.5', 'title', 'Other tools']\n",
      "['O3UHbDxIHgIvfHBMtrS7-25', 'O3UHbDxIHgIvfHBMtrS7-34', 'false', '1155.5', 'no_title', 'Since this is built with Javascript, there are dozens of other frameworks that can probably show a similar view.&nbsp;']\n",
      "['O3UHbDxIHgIvfHBMtrS7-35', 'O3UHbDxIHgIvfHBMtrS7-45', 'false', '1070', 'no_title', '<div style=\"text-align: left\"><span>When hosted in a standalone website, this visualization can be embedded in Tableau or other tool.&nbsp; This would help tell the story more comprehensively.&nbsp;</span></div>']\n",
      "['O3UHbDxIHgIvfHBMtrS7-42', 'O3UHbDxIHgIvfHBMtrS7-45', 'false', '1013', 'no_title', 'This was made with &lt;a href=\"https://github.com/vasturiano/3d-force-graph\"&gt;3d-force-graph&lt;/a&gt; and &lt;a href=\"https://gmousse.gitbooks.io/dataframe-js/content/doc/api/dataframe.html\"&gt;Dataframe.js&lt;/a&gt;']\n",
      "['O3UHbDxIHgIvfHBMtrS7-45', 'gHReWdxfJyFHyzUZcx94-1', 'true', '975.5', 'title', 'Made with']\n",
      "['O3UHbDxIHgIvfHBMtrS7-38', 'O3UHbDxIHgIvfHBMtrS7-45', 'false', '945', 'no_title', '<div style=\"text-align: left\"><span>This is an alpha version that is cheaply hosted on GitHub pages.&nbsp;&nbsp;</span></div>']\n",
      "['O3UHbDxIHgIvfHBMtrS7-46', 'O3UHbDxIHgIvfHBMtrS7-23', 'false', '830.5', 'no_title', 'You can click the \"rotation\" button and see the structure rotate.&nbsp; if you\\'ve moused around already, you might want to hit reload before using the rotation functionality.']\n",
      "['O3UHbDxIHgIvfHBMtrS7-23', 'gHReWdxfJyFHyzUZcx94-1', 'true', '824', 'no_title', 'How to use&nbsp;']\n",
      "['O3UHbDxIHgIvfHBMtrS7-40', 'O3UHbDxIHgIvfHBMtrS7-23', 'false', '800.5', 'no_title', 'Be sure to click around the viz and zoom around.']\n",
      "['O3UHbDxIHgIvfHBMtrS7-16', 'gHReWdxfJyFHyzUZcx94-1', 'true', '658.5', 'no_title', 'Complex, but less complex than looking at the raw data.&nbsp; Incremental tool, not savior']\n",
      "['O3UHbDxIHgIvfHBMtrS7-24', 'O3UHbDxIHgIvfHBMtrS7-16', 'false', '642.5', 'no_title', \"You can see that this view represents a lot of complex data in its entirety.&nbsp; &nbsp;This isn't meant to be something that I drop into an executive's Powerpoint and walk away.&nbsp; &nbsp; This is more of a working tool that I can use to use to explore the data. Any insights I discover would be distilled into more accessible line charts or other&nbsp; visualizations.<br>\"]\n",
      "['O3UHbDxIHgIvfHBMtrS7-29', 'O3UHbDxIHgIvfHBMtrS7-18', 'false', '533', 'no_title', '<div style=\"text-align: left\"><span>The \"creator\" version of this tool is used to parse and filter raw datasets.&nbsp; It isn\\'t ready for public release, but I wanted to show some data in the \"viewer\" version.</span></div>']\n",
      "['O3UHbDxIHgIvfHBMtrS7-18', 'gHReWdxfJyFHyzUZcx94-1', 'true', '511', 'no_title', '3D viz enables that exploration&nbsp;']\n",
      "['O3UHbDxIHgIvfHBMtrS7-27', 'O3UHbDxIHgIvfHBMtrS7-18', 'false', '423.5', 'no_title', 'Using some Javascript libraries, I built a quick tool to parse and view \"many-to-many\" datasets and show them in three dimensions. (Many-to-many datasets might include:&nbsp; transactions between countries, social networks, or website traffic.)']\n",
      "['O3UHbDxIHgIvfHBMtrS7-13', '', 'false', '366', 'no_title', 'Graphing in Tableau or other viz tools&nbsp;']\n",
      "['O3UHbDxIHgIvfHBMtrS7-31', 'gHReWdxfJyFHyzUZcx94-1', 'false', '349', 'no_title', 'Tableau, PowerBI and other tools are great for some data visualization, but I wanted to use some newer tools to better visualize multi-dimensional data.']\n",
      "['O3UHbDxIHgIvfHBMtrS7-11', 'O3UHbDxIHgIvfHBMtrS7-8', 'false', '320', 'no_title', 'Abscombe quartet']\n",
      "['O3UHbDxIHgIvfHBMtrS7-8', '', 'true', '295', 'no_title', 'Looking at max, mins and other statistics&nbsp;']\n",
      "['O3UHbDxIHgIvfHBMtrS7-7', '', 'false', '255', 'no_title', 'Looking at individual rows of data']\n"
     ]
    }
   ],
   "source": [
    "for row in merged_array: \n",
    "     print (row)"
   ]
  },
  {
   "cell_type": "code",
   "execution_count": null,
   "metadata": {},
   "outputs": [],
   "source": []
  },
  {
   "cell_type": "code",
   "execution_count": 20,
   "metadata": {},
   "outputs": [
    {
     "name": "stdout",
     "output_type": "stream",
     "text": [
      " Tableau, PowerBI and other tools are great for some data visualization, but I wanted to use some newer tools to better visualize multi-dimensional data.\n",
      "\n",
      " Using some Javascript libraries, I built a quick tool to parse and view \"many-to-many\" datasets and show them in three dimensions. (Many-to-many datasets might include: transactions between countries, social networks, or website traffic.)\n",
      "\n",
      " The \"creator\" version of this tool is used to parse and filter raw datasets. It isn't ready for public release, but I wanted to show some data in the \"viewer\" version.\n",
      "\n",
      " You can see that this view represents a lot of complex data in its entirety. This isn't meant to be something that I drop into an executive's Powerpoint and walk away.  This is more of a working tool that I can use to use to explore the data. Any insights I discover would be distilled into more accessible line charts or other visualizations.<br>\n",
      "\n",
      " Be sure to click around the viz and zoom around.\n",
      "\n",
      " You can click the \"rotation\" button and see the structure rotate. if you've moused around already, you might want to hit reload before using the rotation functionality.\n",
      "\n",
      " Made with\n",
      "\n",
      " This is an alpha version that is cheaply hosted on GitHub pages.\n",
      "\n",
      " This was made with <a href=\"https://github.com/vasturiano/3d-force-graph\">3d-force-graph</a> and <a href=\"https://gmousse.gitbooks.io/dataframe-js/content/doc/api/dataframe.html\">Dataframe.js</a>\n",
      "\n",
      " When hosted in a standalone website, this visualization can be embedded in Tableau or other tool. This would help tell the story more comprehensively.\n",
      "\n",
      " Other tools\n",
      "\n",
      " Since this is built with Javascript, there are dozens of other frameworks that can probably show a similar view.\n",
      "\n",
      " There is also great tooling available in Python.\n",
      "\n",
      " I'll continue to evolve this tool and other projects. Feel free to hit me up on <a href=\"https://www.linkedin.com/in/matthowes/\">LinkedIn</a>.\n",
      "\n",
      "\n"
     ]
    }
   ],
   "source": [
    "master_string =[]\n",
    "\n",
    "def recursive_print (target_name):\n",
    "   #print (\"target name: \" + target_name)\n",
    "   # look up the entry value \n",
    "\n",
    "   find_entry = next((x for x in merged_array if x[0] == target_name ), 'none')\n",
    "   \n",
    "   \n",
    "   if find_entry == 'none': # than this is the parent \n",
    "       has_children ='true' \n",
    "      \n",
    "   else:     \n",
    "       label_value = find_entry[5]    \n",
    "       has_children = find_entry[2]\n",
    "       title_value = find_entry[4] \n",
    "       if (title_value == 'title'):\n",
    "          master_string.append(\" \" + label_value)\n",
    "         # print (label_value)\n",
    "   if (has_children == 'true'):\n",
    "     \n",
    "        # find all children and sort by y location \n",
    "        #print (target_name)   \n",
    "        matches = [x for x in merged_array if x[1] == target_name ]    \n",
    "        matches.sort(key = sortSecond, reverse=False )  \n",
    "       \n",
    "  \n",
    "        \n",
    "        #iterate over them in order \n",
    "        for child_name in matches: \n",
    "           # print (child_name[0])\n",
    "            recursive_print(child_name[0])\n",
    "   else:\n",
    "       for r in repls:\n",
    "          label_value = label_value.replace(*r)\n",
    "       master_string.append(\" \" + label_value)\n",
    "       #print (label_value)                     \n",
    "                             \n",
    "\n",
    "recursive_print(parent_node)\n",
    "\n",
    "temp =\"\"\n",
    "\n",
    "for x in master_string: \n",
    "    temp += x +\"\\n\\n\"\n",
    "\n",
    "    \n",
    "print (temp)  \n",
    "\n",
    "\n",
    "\n"
   ]
  },
  {
   "cell_type": "code",
   "execution_count": null,
   "metadata": {},
   "outputs": [],
   "source": [
    "with open(\"filename.txt\", \"w\") as f:\n",
    "    f.write(temp)\n"
   ]
  },
  {
   "cell_type": "code",
   "execution_count": null,
   "metadata": {},
   "outputs": [],
   "source": [
    "  "
   ]
  },
  {
   "cell_type": "code",
   "execution_count": null,
   "metadata": {},
   "outputs": [],
   "source": []
  },
  {
   "cell_type": "code",
   "execution_count": null,
   "metadata": {},
   "outputs": [],
   "source": []
  },
  {
   "cell_type": "code",
   "execution_count": null,
   "metadata": {},
   "outputs": [],
   "source": []
  }
 ],
 "metadata": {
  "kernelspec": {
   "display_name": "Python 2",
   "language": "python",
   "name": "python3"
  },
  "language_info": {
   "codemirror_mode": {
    "name": "ipython",
    "version": 3
   },
   "file_extension": ".py",
   "mimetype": "text/x-python",
   "name": "python",
   "nbconvert_exporter": "python",
   "pygments_lexer": "ipython3",
   "version": "3.7.0"
  }
 },
 "nbformat": 4,
 "nbformat_minor": 2
}
