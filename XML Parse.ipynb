{
 "cells": [
  {
   "cell_type": "code",
   "execution_count": 117,
   "metadata": {},
   "outputs": [],
   "source": [
    "import xml.etree.ElementTree as ET\n",
    "tree = ET.parse('map.xml')\n",
    "root_cal = tree.getroot()\n",
    "root = root_cal.findall(\".\")"
   ]
  },
  {
   "cell_type": "code",
   "execution_count": 118,
   "metadata": {},
   "outputs": [
    {
     "name": "stdout",
     "output_type": "stream",
     "text": [
      "/Users/matthowes/Drive/Data Dev and Viz/Projects/book_from_mindmap\n"
     ]
    }
   ],
   "source": [
    "import os\n",
    "cwd = os.getcwd()\n",
    "print (cwd)"
   ]
  },
  {
   "cell_type": "code",
   "execution_count": null,
   "metadata": {},
   "outputs": [],
   "source": [
    "\n",
    "\n",
    " "
   ]
  },
  {
   "cell_type": "code",
   "execution_count": 119,
   "metadata": {},
   "outputs": [
    {
     "name": "stdout",
     "output_type": "stream",
     "text": [
      "FppH65uxrcL7wk5XnBWe-1\n"
     ]
    }
   ],
   "source": [
    "number_of_elements = len(root[0])\n",
    "text_array = [] \n",
    "relationship_array = []\n",
    "for i in range(0, number_of_elements):\n",
    "  # print ('i:' + str(i))\n",
    "   individual_cell = root[0][i]\n",
    "  # print (individual_cell)\n",
    " #  print (root[0][i].attrib['id'])\n",
    "   individual_cell_attributes = individual_cell.attrib \n",
    "   entry_type = 'unknown'\n",
    "   if 'id' in individual_cell_attributes:\n",
    "      id =root[0][i].attrib['id']\n",
    "     # print ('id:' +  id )\n",
    "   if 'label' in individual_cell_attributes:\n",
    "      label =root[0][i].attrib['label']\n",
    "     # print ('label:' +  label )    \n",
    "   if 'treeRoot' in individual_cell_attributes:\n",
    "      treeRoot =root[0][i].attrib['treeRoot']\n",
    "     # print ('treeroot:' +  treeRoot )        \n",
    "      parent_node = id\n",
    "   if 'value' in individual_cell_attributes:\n",
    "      val =root[0][i].attrib['value']\n",
    "      if len(val) > 0:  \n",
    "          entry_type = 'text'\n",
    "          label = val  \n",
    "      else:\n",
    "          entry_type = 'geo' \n",
    "   else: \n",
    "      entry_type =\"unknown\"\n",
    "   if 'source' in individual_cell_attributes:\n",
    "      source =root[0][i].attrib['source']\n",
    "     # print ('source:' + val) \n",
    "   if 'target' in individual_cell_attributes:\n",
    "      target =root[0][i].attrib['target']\n",
    "      #print ('target:' + val)\n",
    "   geometry_within_cell= root[0][i].findall('mxGeometry')\n",
    "   for child in geometry_within_cell:\n",
    "       if 'y' in  child.attrib:\n",
    "           y  = child.attrib['y']\n",
    "      #     print ('y:' +  y )\n",
    "           \n",
    "   if entry_type == 'geo':\n",
    "      relationship_array.append([id,source, target])\n",
    "   elif entry_type == 'text':\n",
    "      text_array.append([id, label,y])\n",
    "   source= \"\"  \n",
    "   target= \"\" \n",
    "   id = \"\" \n",
    "\n",
    "print (parent_node)\n"
   ]
  },
  {
   "cell_type": "code",
   "execution_count": 120,
   "metadata": {},
   "outputs": [
    {
     "name": "stdout",
     "output_type": "stream",
     "text": [
      "['FppH65uxrcL7wk5XnBWe-3', 'chap 1', '105']\n",
      "['FppH65uxrcL7wk5XnBWe-5', 'chap 2', '200']\n",
      "['FppH65uxrcL7wk5XnBWe-6', 'section 1.1', '20']\n",
      "['FppH65uxrcL7wk5XnBWe-8', 'section 1.2', '120']\n",
      "['FppH65uxrcL7wk5XnBWe-10', 'section 2.1', '200']\n",
      "['FppH65uxrcL7wk5XnBWe-12', 'section 2.2', '260']\n",
      "['FppH65uxrcL7wk5XnBWe-15', '<span>1. Lorem ipsum dolor sit amet, consectetur adipiscing elit, sed do eiusmod tempor incididunt ut labore et dolore magna aliqua. Ut enim ad minim veniam, quis nostrud exercitation ullamco laboris nisi ut aliquip ex ea commodo consequat. Duis aute irure dolor in reprehenderit in voluptate velit esse cillum dolore eu fugiat nulla pariatur.&nbsp;</span>', '260']\n",
      "['FppH65uxrcL7wk5XnBWe-17', '2. Lorem ipsum dolor sit amet, consectetur adipiscing elit, sed do eiusmod tempor incididunt ut labore et dolore magna aliqua. Ut enim ad minim veniam, quis nostrud exercitation ullamco laboris nisi ut aliquip ex ea commodo consequat. Duis aute irure dolor in reprehenderit in voluptate velit esse cillum dolore eu fugiat nulla pariatur. ojk', '40']\n"
     ]
    }
   ],
   "source": [
    "for row in text_array: \n",
    "     print (row)\n"
   ]
  },
  {
   "cell_type": "code",
   "execution_count": 121,
   "metadata": {},
   "outputs": [
    {
     "name": "stdout",
     "output_type": "stream",
     "text": [
      "['FppH65uxrcL7wk5XnBWe-2', 'FppH65uxrcL7wk5XnBWe-1', 'FppH65uxrcL7wk5XnBWe-3']\n",
      "['FppH65uxrcL7wk5XnBWe-4', 'FppH65uxrcL7wk5XnBWe-1', 'FppH65uxrcL7wk5XnBWe-5']\n",
      "['FppH65uxrcL7wk5XnBWe-7', 'FppH65uxrcL7wk5XnBWe-3', 'FppH65uxrcL7wk5XnBWe-6']\n",
      "['FppH65uxrcL7wk5XnBWe-9', 'FppH65uxrcL7wk5XnBWe-3', 'FppH65uxrcL7wk5XnBWe-8']\n",
      "['FppH65uxrcL7wk5XnBWe-11', 'FppH65uxrcL7wk5XnBWe-5', 'FppH65uxrcL7wk5XnBWe-10']\n",
      "['FppH65uxrcL7wk5XnBWe-13', 'FppH65uxrcL7wk5XnBWe-5', 'FppH65uxrcL7wk5XnBWe-12']\n",
      "['FppH65uxrcL7wk5XnBWe-16', 'FppH65uxrcL7wk5XnBWe-6', 'FppH65uxrcL7wk5XnBWe-15']\n",
      "['FppH65uxrcL7wk5XnBWe-18', 'FppH65uxrcL7wk5XnBWe-6', 'FppH65uxrcL7wk5XnBWe-17']\n"
     ]
    }
   ],
   "source": [
    "for row in relationship_array: \n",
    "     print (row)"
   ]
  },
  {
   "cell_type": "code",
   "execution_count": 122,
   "metadata": {},
   "outputs": [
    {
     "name": "stdout",
     "output_type": "stream",
     "text": [
      "['FppH65uxrcL7wk5XnBWe-3', 'FppH65uxrcL7wk5XnBWe-1', 'true', '105', 'chap 1']\n",
      "['FppH65uxrcL7wk5XnBWe-5', 'FppH65uxrcL7wk5XnBWe-1', 'true', '200', 'chap 2']\n",
      "['FppH65uxrcL7wk5XnBWe-6', 'FppH65uxrcL7wk5XnBWe-3', 'true', '20', 'section 1.1']\n",
      "['FppH65uxrcL7wk5XnBWe-8', 'FppH65uxrcL7wk5XnBWe-3', 'false', '120', 'section 1.2']\n",
      "['FppH65uxrcL7wk5XnBWe-10', 'FppH65uxrcL7wk5XnBWe-5', 'false', '200', 'section 2.1']\n",
      "['FppH65uxrcL7wk5XnBWe-12', 'FppH65uxrcL7wk5XnBWe-5', 'false', '260', 'section 2.2']\n",
      "['FppH65uxrcL7wk5XnBWe-15', 'FppH65uxrcL7wk5XnBWe-6', 'false', '260', '<span>1. Lorem ipsum dolor sit amet, consectetur adipiscing elit, sed do eiusmod tempor incididunt ut labore et dolore magna aliqua. Ut enim ad minim veniam, quis nostrud exercitation ullamco laboris nisi ut aliquip ex ea commodo consequat. Duis aute irure dolor in reprehenderit in voluptate velit esse cillum dolore eu fugiat nulla pariatur.&nbsp;</span>']\n",
      "['FppH65uxrcL7wk5XnBWe-17', 'FppH65uxrcL7wk5XnBWe-6', 'false', '40', '2. Lorem ipsum dolor sit amet, consectetur adipiscing elit, sed do eiusmod tempor incididunt ut labore et dolore magna aliqua. Ut enim ad minim veniam, quis nostrud exercitation ullamco laboris nisi ut aliquip ex ea commodo consequat. Duis aute irure dolor in reprehenderit in voluptate velit esse cillum dolore eu fugiat nulla pariatur. ojk']\n"
     ]
    }
   ],
   "source": [
    "merged_array = []\n",
    "for row in  text_array:  \n",
    "    name = row[0]\n",
    "    text_val = row[1]\n",
    "    y = row[2]\n",
    "    parent_search= next((x for x in relationship_array if x[2] == name ), 'none')\n",
    "    parent_name = parent_search[1]\n",
    "\n",
    "    child_search = next((x for x in relationship_array if x[1] == name ), 'none')\n",
    " \n",
    "    if child_search ==\"none\" : \n",
    "       has_children = \"false\"\n",
    "    else: \n",
    "       has_children = \"true\" \n",
    "    merged_array.append([ name,parent_name, has_children ,y, text_val ])\n",
    "\n",
    "for row in merged_array: \n",
    "     print (row)"
   ]
  },
  {
   "cell_type": "code",
   "execution_count": 137,
   "metadata": {},
   "outputs": [
    {
     "name": "stdout",
     "output_type": "stream",
     "text": [
      "chap 1\n",
      "section 1.2\n",
      "section 1.1\n",
      "<span>1. Lorem ipsum dolor sit amet, consectetur adipiscing elit, sed do eiusmod tempor incididunt ut labore et dolore magna aliqua. Ut enim ad minim veniam, quis nostrud exercitation ullamco laboris nisi ut aliquip ex ea commodo consequat. Duis aute irure dolor in reprehenderit in voluptate velit esse cillum dolore eu fugiat nulla pariatur.&nbsp;</span>\n",
      "2. Lorem ipsum dolor sit amet, consectetur adipiscing elit, sed do eiusmod tempor incididunt ut labore et dolore magna aliqua. Ut enim ad minim veniam, quis nostrud exercitation ullamco laboris nisi ut aliquip ex ea commodo consequat. Duis aute irure dolor in reprehenderit in voluptate velit esse cillum dolore eu fugiat nulla pariatur. ojk\n",
      "chap 2\n",
      "section 2.1\n",
      "section 2.2\n"
     ]
    }
   ],
   "source": [
    "\n",
    "def sortSecond(val): \n",
    "   # print  (val[3])\n",
    "    return val[3]  \n",
    "\n",
    "def recursive_print (target_name):\n",
    "    \n",
    "   find_entry = next((x for x in merged_array if x[0] == target_name ), 'none')\n",
    "   if find_entry == 'none':\n",
    "       has_children ='true'   \n",
    "   else:     \n",
    "       label_value = find_entry[4]\n",
    "       has_children = find_entry[2]\n",
    "       print (label_value)\n",
    "  \n",
    "   if (has_children == 'true'):\n",
    "    \n",
    "           # find all children and sort by y location \n",
    "           matches = [x for x in merged_array if x[1] == target_name ]\n",
    "               #iterate over them in order \n",
    "           matches.sort(key = sortSecond)  \n",
    "          # print (\"Matches:\")  \n",
    "          # print (matches) \n",
    "  \n",
    "           #for child_name in matches: \n",
    "           for child_name in matches: \n",
    "               # print (child_name[0])\n",
    "                recursive_print(child_name[0])\n",
    "  \n",
    "   # print out the text   \n",
    "   #print (label_value)\n",
    "\n",
    "recursive_print('FppH65uxrcL7wk5XnBWe-1')\n",
    "#FppH65uxrcL7wk5XnBWe-1"
   ]
  },
  {
   "cell_type": "code",
   "execution_count": null,
   "metadata": {},
   "outputs": [],
   "source": []
  },
  {
   "cell_type": "code",
   "execution_count": null,
   "metadata": {},
   "outputs": [],
   "source": []
  },
  {
   "cell_type": "code",
   "execution_count": null,
   "metadata": {},
   "outputs": [],
   "source": []
  },
  {
   "cell_type": "code",
   "execution_count": 33,
   "metadata": {},
   "outputs": [
    {
     "name": "stdout",
     "output_type": "stream",
     "text": [
      "/Users/matthowes/Drive/Data Dev and Viz/Projects/book_from_mindmap\n"
     ]
    }
   ],
   "source": []
  },
  {
   "cell_type": "code",
   "execution_count": null,
   "metadata": {},
   "outputs": [],
   "source": []
  }
 ],
 "metadata": {
  "kernelspec": {
   "display_name": "Python 2",
   "language": "python",
   "name": "python3"
  },
  "language_info": {
   "codemirror_mode": {
    "name": "ipython",
    "version": 3
   },
   "file_extension": ".py",
   "mimetype": "text/x-python",
   "name": "python",
   "nbconvert_exporter": "python",
   "pygments_lexer": "ipython3",
   "version": "3.7.0"
  }
 },
 "nbformat": 4,
 "nbformat_minor": 2
}
