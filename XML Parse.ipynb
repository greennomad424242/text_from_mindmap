{
 "cells": [
  {
   "cell_type": "code",
   "execution_count": 4,
   "metadata": {},
   "outputs": [],
   "source": [
    "import xml.etree.ElementTree as ET\n",
    "tree = ET.parse('map.xml')\n",
    "root_cal = tree.getroot()\n",
    "root = root_cal.findall(\".\")"
   ]
  },
  {
   "cell_type": "code",
   "execution_count": 5,
   "metadata": {},
   "outputs": [],
   "source": [
    "number_of_elements = len(root[0])"
   ]
  },
  {
   "cell_type": "code",
   "execution_count": 6,
   "metadata": {},
   "outputs": [
    {
     "name": "stdout",
     "output_type": "stream",
     "text": [
      "\n",
      "\n",
      "id:0\n",
      "\n",
      "\n",
      "id:1\n",
      "\n",
      "\n",
      "id:FppH65uxrcL7wk5XnBWe-1\n",
      "label:book\n",
      "treeroot:1\n",
      "\n",
      "\n",
      "id:FppH65uxrcL7wk5XnBWe-2\n",
      "type: geo\n",
      "source:FppH65uxrcL7wk5XnBWe-1\n",
      "target:FppH65uxrcL7wk5XnBWe-3\n",
      "\n",
      "\n",
      "id:FppH65uxrcL7wk5XnBWe-3\n",
      "name:chap 1\n",
      "y:105\n",
      "\n",
      "\n",
      "id:FppH65uxrcL7wk5XnBWe-4\n",
      "type: geo\n",
      "source:FppH65uxrcL7wk5XnBWe-1\n",
      "target:FppH65uxrcL7wk5XnBWe-5\n",
      "\n",
      "\n",
      "id:FppH65uxrcL7wk5XnBWe-5\n",
      "name:chap 2\n",
      "y:200\n",
      "\n",
      "\n",
      "id:FppH65uxrcL7wk5XnBWe-6\n",
      "name:section 1.1\n",
      "y:20\n",
      "\n",
      "\n",
      "id:FppH65uxrcL7wk5XnBWe-7\n",
      "type: geo\n",
      "source:FppH65uxrcL7wk5XnBWe-3\n",
      "target:FppH65uxrcL7wk5XnBWe-6\n",
      "\n",
      "\n",
      "id:FppH65uxrcL7wk5XnBWe-8\n",
      "name:section 1.2\n",
      "y:120\n",
      "\n",
      "\n",
      "id:FppH65uxrcL7wk5XnBWe-9\n",
      "type: geo\n",
      "source:FppH65uxrcL7wk5XnBWe-3\n",
      "target:FppH65uxrcL7wk5XnBWe-8\n",
      "\n",
      "\n",
      "id:FppH65uxrcL7wk5XnBWe-10\n",
      "name:section 2.1\n",
      "y:200\n",
      "\n",
      "\n",
      "id:FppH65uxrcL7wk5XnBWe-11\n",
      "type: geo\n",
      "source:FppH65uxrcL7wk5XnBWe-5\n",
      "target:FppH65uxrcL7wk5XnBWe-10\n",
      "\n",
      "\n",
      "id:FppH65uxrcL7wk5XnBWe-12\n",
      "name:section 2.2\n",
      "y:260\n",
      "\n",
      "\n",
      "id:FppH65uxrcL7wk5XnBWe-13\n",
      "type: geo\n",
      "source:FppH65uxrcL7wk5XnBWe-5\n",
      "target:FppH65uxrcL7wk5XnBWe-12\n",
      "\n",
      "\n",
      "id:FppH65uxrcL7wk5XnBWe-15\n",
      "name:<span>1. Lorem ipsum dolor sit amet, consectetur adipiscing elit, sed do eiusmod tempor incididunt ut labore et dolore magna aliqua. Ut enim ad minim veniam, quis nostrud exercitation ullamco laboris nisi ut aliquip ex ea commodo consequat. Duis aute irure dolor in reprehenderit in voluptate velit esse cillum dolore eu fugiat nulla pariatur.&nbsp;</span>\n",
      "\n",
      "\n",
      "id:FppH65uxrcL7wk5XnBWe-16\n",
      "type: geo\n",
      "source:FppH65uxrcL7wk5XnBWe-6\n",
      "target:FppH65uxrcL7wk5XnBWe-15\n",
      "\n",
      "\n",
      "id:FppH65uxrcL7wk5XnBWe-17\n",
      "name:2. Lorem ipsum dolor sit amet, consectetur adipiscing elit, sed do eiusmod tempor incididunt ut labore et dolore magna aliqua. Ut enim ad minim veniam, quis nostrud exercitation ullamco laboris nisi ut aliquip ex ea commodo consequat. Duis aute irure dolor in reprehenderit in voluptate velit esse cillum dolore eu fugiat nulla pariatur. ojk\n",
      "y:40\n",
      "\n",
      "\n",
      "id:FppH65uxrcL7wk5XnBWe-18\n",
      "type: geo\n",
      "source:FppH65uxrcL7wk5XnBWe-6\n",
      "target:FppH65uxrcL7wk5XnBWe-17\n"
     ]
    }
   ],
   "source": [
    "for i in range(0, number_of_elements):\n",
    "   print ('\\n')\n",
    "   individual_cell = root[0][i]\n",
    "   individual_cell_attributes = individual_cell.attrib \n",
    "\n",
    "   if 'id' in individual_cell_attributes:\n",
    "      id =root[0][i].attrib['id']\n",
    "      print ('id:' +  id )\n",
    "   if 'label' in individual_cell_attributes:\n",
    "      label =root[0][i].attrib['label']\n",
    "      print ('label:' +  label )    \n",
    "   if 'treeRoot' in individual_cell_attributes:\n",
    "      treeRoot =root[0][i].attrib['treeRoot']\n",
    "      print ('treeroot:' +  treeRoot )        \n",
    "        \n",
    "        \n",
    "   if 'value' in individual_cell_attributes:\n",
    "      val =root[0][i].attrib['value']\n",
    "      if len(val) > 0: \n",
    "          print ('name:' + val) \n",
    "      else:\n",
    "          print ('type: geo')\n",
    "   if 'source' in individual_cell_attributes:\n",
    "      val =root[0][i].attrib['source']\n",
    "      print ('source:' + val) \n",
    "   if 'target' in individual_cell_attributes:\n",
    "      val =root[0][i].attrib['target']\n",
    "      print ('target:' + val)\n",
    "   geometry_within_cell= root[0][i].findall('mxGeometry')\n",
    "   for child in geometry_within_cell:\n",
    "       if 'y' in  child.attrib:\n",
    "           y  = child.attrib['y']\n",
    "           print ('y:' +  y )"
   ]
  },
  {
   "cell_type": "code",
   "execution_count": null,
   "metadata": {},
   "outputs": [],
   "source": [
    "\n"
   ]
  },
  {
   "cell_type": "code",
   "execution_count": 65,
   "metadata": {},
   "outputs": [],
   "source": [
    "\n",
    "\n"
   ]
  },
  {
   "cell_type": "code",
   "execution_count": 66,
   "metadata": {},
   "outputs": [],
   "source": [
    "\n",
    "\n",
    "\n"
   ]
  },
  {
   "cell_type": "code",
   "execution_count": 69,
   "metadata": {},
   "outputs": [],
   "source": []
  },
  {
   "cell_type": "code",
   "execution_count": 70,
   "metadata": {},
   "outputs": [
    {
     "data": {
      "text/plain": [
       "[<Element 'mxGeometry' at 0x10483ef10>]"
      ]
     },
     "execution_count": 70,
     "metadata": {},
     "output_type": "execute_result"
    }
   ],
   "source": [
    "geometry_within_cell"
   ]
  },
  {
   "cell_type": "code",
   "execution_count": 78,
   "metadata": {},
   "outputs": [
    {
     "data": {
      "text/plain": [
       "[<Element 'mxGeometry' at 0x10483ef10>]"
      ]
     },
     "execution_count": 78,
     "metadata": {},
     "output_type": "execute_result"
    }
   ],
   "source": [
    "geometry_within_cell\n"
   ]
  },
  {
   "cell_type": "code",
   "execution_count": 79,
   "metadata": {},
   "outputs": [
    {
     "name": "stdout",
     "output_type": "stream",
     "text": [
      "('mxGeometry', {'y': '200', 'x': '327', 'as': 'geometry', 'width': '80', 'height': '30'})\n"
     ]
    }
   ],
   "source": []
  },
  {
   "cell_type": "code",
   "execution_count": null,
   "metadata": {},
   "outputs": [],
   "source": []
  }
 ],
 "metadata": {
  "kernelspec": {
   "display_name": "Python 2",
   "language": "python",
   "name": "python3"
  },
  "language_info": {
   "codemirror_mode": {
    "name": "ipython",
    "version": 2
   },
   "file_extension": ".py",
   "mimetype": "text/x-python",
   "name": "python",
   "nbconvert_exporter": "python",
   "pygments_lexer": "ipython2",
   "version": "2.7.15"
  }
 },
 "nbformat": 4,
 "nbformat_minor": 2
}
